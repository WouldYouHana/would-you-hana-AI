{
 "cells": [
  {
   "cell_type": "code",
   "execution_count": 1,
   "metadata": {
    "colab": {
     "base_uri": "https://localhost:8080/"
    },
    "executionInfo": {
     "elapsed": 5358,
     "status": "ok",
     "timestamp": 1731843597653,
     "user": {
      "displayName": "정승용 (freamwork)",
      "userId": "18005574181828187753"
     },
     "user_tz": -540
    },
    "id": "JKMsOtP94wk_",
    "outputId": "0bc3e5b8-0638-4d0c-e144-c919543fdb96"
   },
   "outputs": [
    {
     "name": "stdout",
     "output_type": "stream",
     "text": [
      "Collecting faiss-cpu\n",
      "  Downloading faiss_cpu-1.9.0-cp312-cp312-win_amd64.whl.metadata (4.5 kB)\n",
      "Requirement already satisfied: numpy<3.0,>=1.25.0 in c:\\users\\windra\\desktop\\project\\wouldyouhana\\would-you-hana-chatbot\\.venv\\lib\\site-packages (from faiss-cpu) (1.26.4)\n",
      "Requirement already satisfied: packaging in c:\\users\\windra\\desktop\\project\\wouldyouhana\\would-you-hana-chatbot\\.venv\\lib\\site-packages (from faiss-cpu) (24.1)\n",
      "Downloading faiss_cpu-1.9.0-cp312-cp312-win_amd64.whl (14.9 MB)\n",
      "   ---------------------------------------- 0.0/14.9 MB ? eta -:--:--\n",
      "   ---------------- ----------------------- 6.3/14.9 MB 35.1 MB/s eta 0:00:01\n",
      "   --------------------------------- ------ 12.3/14.9 MB 32.2 MB/s eta 0:00:01\n",
      "   ---------------------------------------- 14.9/14.9 MB 26.7 MB/s eta 0:00:00\n",
      "Installing collected packages: faiss-cpu\n",
      "Successfully installed faiss-cpu-1.9.0\n"
     ]
    },
    {
     "name": "stderr",
     "output_type": "stream",
     "text": [
      "\n",
      "[notice] A new release of pip is available: 24.2 -> 24.3.1\n",
      "[notice] To update, run: python.exe -m pip install --upgrade pip\n"
     ]
    }
   ],
   "source": [
    "!pip install faiss-cpu"
   ]
  },
  {
   "cell_type": "code",
   "execution_count": 2,
   "metadata": {
    "colab": {
     "base_uri": "https://localhost:8080/"
    },
    "executionInfo": {
     "elapsed": 7482,
     "status": "ok",
     "timestamp": 1731843586071,
     "user": {
      "displayName": "정승용 (freamwork)",
      "userId": "18005574181828187753"
     },
     "user_tz": -540
    },
    "id": "cV_VMG9A6Ajv",
    "outputId": "0cda3906-0b28-40ac-d0a5-2c91f00b3723"
   },
   "outputs": [
    {
     "name": "stdout",
     "output_type": "stream",
     "text": [
      "Collecting openai==0.28\n",
      "  Downloading openai-0.28.0-py3-none-any.whl.metadata (13 kB)\n",
      "Requirement already satisfied: requests>=2.20 in c:\\users\\windra\\desktop\\project\\wouldyouhana\\would-you-hana-chatbot\\.venv\\lib\\site-packages (from openai==0.28) (2.32.3)\n",
      "Requirement already satisfied: tqdm in c:\\users\\windra\\desktop\\project\\wouldyouhana\\would-you-hana-chatbot\\.venv\\lib\\site-packages (from openai==0.28) (4.66.5)\n",
      "Requirement already satisfied: aiohttp in c:\\users\\windra\\desktop\\project\\wouldyouhana\\would-you-hana-chatbot\\.venv\\lib\\site-packages (from openai==0.28) (3.10.10)\n",
      "Requirement already satisfied: charset-normalizer<4,>=2 in c:\\users\\windra\\desktop\\project\\wouldyouhana\\would-you-hana-chatbot\\.venv\\lib\\site-packages (from requests>=2.20->openai==0.28) (3.4.0)\n",
      "Requirement already satisfied: idna<4,>=2.5 in c:\\users\\windra\\desktop\\project\\wouldyouhana\\would-you-hana-chatbot\\.venv\\lib\\site-packages (from requests>=2.20->openai==0.28) (3.10)\n",
      "Requirement already satisfied: urllib3<3,>=1.21.1 in c:\\users\\windra\\desktop\\project\\wouldyouhana\\would-you-hana-chatbot\\.venv\\lib\\site-packages (from requests>=2.20->openai==0.28) (2.2.3)\n",
      "Requirement already satisfied: certifi>=2017.4.17 in c:\\users\\windra\\desktop\\project\\wouldyouhana\\would-you-hana-chatbot\\.venv\\lib\\site-packages (from requests>=2.20->openai==0.28) (2024.8.30)\n",
      "Requirement already satisfied: aiohappyeyeballs>=2.3.0 in c:\\users\\windra\\desktop\\project\\wouldyouhana\\would-you-hana-chatbot\\.venv\\lib\\site-packages (from aiohttp->openai==0.28) (2.4.3)\n",
      "Requirement already satisfied: aiosignal>=1.1.2 in c:\\users\\windra\\desktop\\project\\wouldyouhana\\would-you-hana-chatbot\\.venv\\lib\\site-packages (from aiohttp->openai==0.28) (1.3.1)\n",
      "Requirement already satisfied: attrs>=17.3.0 in c:\\users\\windra\\desktop\\project\\wouldyouhana\\would-you-hana-chatbot\\.venv\\lib\\site-packages (from aiohttp->openai==0.28) (24.2.0)\n",
      "Requirement already satisfied: frozenlist>=1.1.1 in c:\\users\\windra\\desktop\\project\\wouldyouhana\\would-you-hana-chatbot\\.venv\\lib\\site-packages (from aiohttp->openai==0.28) (1.4.1)\n",
      "Requirement already satisfied: multidict<7.0,>=4.5 in c:\\users\\windra\\desktop\\project\\wouldyouhana\\would-you-hana-chatbot\\.venv\\lib\\site-packages (from aiohttp->openai==0.28) (6.1.0)\n",
      "Requirement already satisfied: yarl<2.0,>=1.12.0 in c:\\users\\windra\\desktop\\project\\wouldyouhana\\would-you-hana-chatbot\\.venv\\lib\\site-packages (from aiohttp->openai==0.28) (1.15.5)\n",
      "Requirement already satisfied: colorama in c:\\users\\windra\\desktop\\project\\wouldyouhana\\would-you-hana-chatbot\\.venv\\lib\\site-packages (from tqdm->openai==0.28) (0.4.6)\n",
      "Requirement already satisfied: propcache>=0.2.0 in c:\\users\\windra\\desktop\\project\\wouldyouhana\\would-you-hana-chatbot\\.venv\\lib\\site-packages (from yarl<2.0,>=1.12.0->aiohttp->openai==0.28) (0.2.0)\n",
      "Downloading openai-0.28.0-py3-none-any.whl (76 kB)\n",
      "Installing collected packages: openai\n",
      "  Attempting uninstall: openai\n",
      "    Found existing installation: openai 1.52.0\n",
      "    Uninstalling openai-1.52.0:\n",
      "      Successfully uninstalled openai-1.52.0\n",
      "Successfully installed openai-0.28.0\n"
     ]
    },
    {
     "name": "stderr",
     "output_type": "stream",
     "text": [
      "\n",
      "[notice] A new release of pip is available: 24.2 -> 24.3.1\n",
      "[notice] To update, run: python.exe -m pip install --upgrade pip\n"
     ]
    }
   ],
   "source": [
    "!pip install openai==0.28"
   ]
  },
  {
   "cell_type": "code",
   "execution_count": null,
   "metadata": {
    "colab": {
     "base_uri": "https://localhost:8080/"
    },
    "executionInfo": {
     "elapsed": 24539,
     "status": "ok",
     "timestamp": 1731843625671,
     "user": {
      "displayName": "정승용 (freamwork)",
      "userId": "18005574181828187753"
     },
     "user_tz": -540
    },
    "id": "q1aO8wdb4txV",
    "outputId": "f0560c76-5e6b-44d0-9aed-d5ca7cc03925"
   },
   "outputs": [
    {
     "name": "stdout",
     "output_type": "stream",
     "text": [
      "임베딩 생성할 텍스트 수: 406\n",
      "임베딩 생성 및 검색이 완료되었습니다.\n",
      "질문: 금융인증서 갱신 방법은?\n",
      "답변: 하나원큐 앱 로그인 후 [메뉴 > 인증/보안 > 금융인증서 > 인증서 발급/재발급] 메뉴에서 금융인증서 발급을 해주세요. 금융인증서 발급을 위한 클라우드 생성 시 국내 통신사의 휴대전화번호(본인명의 휴대폰이 아니여도 됨)로 문자 또는 ARS인증을 수행해야 합니다.※ 이체회원이 아닌 경우 영업점 방문 또는 비대면 실명확인을 통해 이체회원 가입 후 금융인증서 발급 가능\n"
     ]
    }
   ],
   "source": [
    "import openai\n",
    "import pandas as pd\n",
    "import numpy as np\n",
    "import faiss\n",
    "import pickle\n",
    "import time\n",
    "from dotenv import load_dotenv\n",
    "import os\n",
    "# OpenAI API 키 설정\n",
    "load_dotenv(dotenv_path=\".env\")\n",
    "openai.api_key = os.getenv(\"hana\")\n",
    "# 데이터 로드\n",
    "faq_data_path = 'faq_data3.csv'  # FAQ 데이터 파일 경로\n",
    "# 불필요한 줄바꿈 및 공백 제거\n",
    "\n",
    "faq_data = pd.read_csv(faq_data_path)\n",
    "faq_data['Question'] = faq_data['Question'].str.replace(r'Q.\\r\\n\\s*질문\\s*', '', regex=True).str.strip()\n",
    "faq_data['Answer'] = faq_data['Answer'].str.replace(r'A.\\r\\n\\s*답변\\s*\\n\\n', '', regex=True).str.strip()\n",
    "\n",
    "# OpenAI API로 배치 임베딩 생성 함수 정의\n",
    "def get_openai_embeddings_batch(texts):\n",
    "    response = openai.Embedding.create(\n",
    "        model=\"text-embedding-ada-002\",\n",
    "        input=texts\n",
    "    )\n",
    "    embeddings = [np.array(item['embedding'], dtype='float32') for item in response['data']]\n",
    "    return embeddings\n",
    "\n",
    "# 임베딩을 생성하고 저장하는 함수 정의 (배치 처리 및 캐싱 적용)\n",
    "def generate_faq_embeddings_with_cache(data, column_name, cache_file):\n",
    "    try:\n",
    "        with open(cache_file, \"rb\") as f:\n",
    "            embedding_cache = pickle.load(f)\n",
    "    except FileNotFoundError:\n",
    "        embedding_cache = {}\n",
    "\n",
    "    texts_to_embed = [text for text in data[column_name] if text not in embedding_cache]\n",
    "    print(f\"임베딩 생성할 텍스트 수: {len(texts_to_embed)}\")\n",
    "\n",
    "    batch_size = 20  # 배치 크기 설정\n",
    "    for i in range(0, len(texts_to_embed), batch_size):\n",
    "        batch_texts = texts_to_embed[i:i + batch_size]\n",
    "        try:\n",
    "            batch_embeddings = get_openai_embeddings_batch(batch_texts)\n",
    "            for text, embedding in zip(batch_texts, batch_embeddings):\n",
    "                embedding_cache[text] = embedding\n",
    "        except Exception as e:\n",
    "            print(\"API 호출 중 오류 발생:\", e)\n",
    "            time.sleep(1)  # 잠시 대기 후 재시도\n",
    "\n",
    "    # 임베딩 캐시 저장\n",
    "    with open(cache_file, \"wb\") as f:\n",
    "        pickle.dump(embedding_cache, f)\n",
    "\n",
    "    return np.array([embedding_cache[text] for text in data[column_name]])\n",
    "\n",
    "# FAQ 데이터에 대해 임베딩 생성 및 캐싱\n",
    "faq_embeddings = generate_faq_embeddings_with_cache(faq_data, 'Question', \"faq_embeddings_cache.pkl\")\n",
    "\n",
    "# faiss 인덱스 생성 및 벡터 추가\n",
    "dimension = faq_embeddings.shape[1]\n",
    "index = faiss.IndexFlatL2(dimension)\n",
    "index.add(faq_embeddings)\n",
    "\n",
    "# 유사 문장 검색 함수 정의\n",
    "def search_similar_sentence(question):\n",
    "    question_embedding = get_openai_embeddings_batch([question])[0].reshape(1, -1)\n",
    "    distances, indices = index.search(question_embedding, 1)\n",
    "    return faq_data.iloc[indices[0][0]]['Answer']\n",
    "\n",
    "print(\"임베딩 생성 및 검색이 완료되었습니다.\")\n",
    "\n",
    "# FAQ 데이터와 임베딩 저장\n",
    "with open(\"faq_data2.pkl\", \"wb\") as f:\n",
    "    pickle.dump(faq_data, f)\n",
    "with open(\"faq_embeddings2.pkl\", \"wb\") as f:\n",
    "    pickle.dump(faq_embeddings, f)\n",
    "\n",
    "# 예제 질문\n",
    "question = \"금융인증서 갱신 방법은?\"\n",
    "print(\"질문:\", question)\n",
    "print(\"답변:\", search_similar_sentence(question))\n"
   ]
  },
  {
   "cell_type": "code",
   "execution_count": null,
   "metadata": {
    "colab": {
     "base_uri": "https://localhost:8080/"
    },
    "executionInfo": {
     "elapsed": 3232,
     "status": "ok",
     "timestamp": 1731843809783,
     "user": {
      "displayName": "정승용 (freamwork)",
      "userId": "18005574181828187753"
     },
     "user_tz": -540
    },
    "id": "Qp2jHM2p7IGC",
    "outputId": "6c9e5bf4-ab65-4de7-975a-f7cd7c5ac771"
   },
   "outputs": [
    {
     "name": "stdout",
     "output_type": "stream",
     "text": [
      "질문: 암호화폐 투자에 대해 알려주세요.\n",
      "답변: 암호화폐는 디지털 형태의 자산으로, 블록체인 기술을 기반으로 하고 있습니다. 암호화폐는 중앙기관이나 정부의 간섭 없이 전 세계적으로 거래가 이루어질 수 있습니다. 암호화폐는 투자 수단으로 많이 사용되며, 많은 사람들이 가치 상승을 기대하고 가격의 변동성을 통해 수익을 얻고자 합니다.\n",
      "\n",
      "암호화폐를 투자할 때 주의해야 할 점은 다음과 같습니다:\n",
      "1. 시장의 변동성: 암호화폐 시장은 매우 변동성이 높으므로 손실을 줄이기 위해 리스크 관리가 필요합니다.\n",
      "2. 보안: 개인정보와 자산을 안전하게 관리하기 위해 안전한 지갑을 사용하고 비밀번호를 잘 보호해야 합니다.\n",
      "3. 정보 수집: 투자 전 암호화폐에\n"
     ]
    }
   ],
   "source": [
    "import openai\n",
    "import faiss\n",
    "import numpy as np\n",
    "import pickle\n",
    "from dotenv import load_dotenv\n",
    "import os\n",
    "\n",
    "# OpenAI API 키 설정\n",
    "load_dotenv()\n",
    "openai.api_key = os.getenv(\"hana\")\n",
    "\n",
    "# 저장된 FAQ 데이터와 임베딩 로드\n",
    "with open(\"faq_data2.pkl\", \"rb\") as f:\n",
    "    faq_data_pd = pickle.load(f)\n",
    "with open(\"faq_embeddings2.pkl\", \"rb\") as f:\n",
    "    faq_embeddings = pickle.load(f)\n",
    "\n",
    "# faiss 인덱스 생성 및 임베딩 추가\n",
    "dimension = faq_embeddings.shape[1]\n",
    "index = faiss.IndexFlatL2(dimension)\n",
    "index.add(faq_embeddings)\n",
    "\n",
    "def get_openai_embedding(text):\n",
    "    response = openai.Embedding.create(\n",
    "        model=\"text-embedding-ada-002\",\n",
    "        input=text\n",
    "    )\n",
    "    return np.array(response['data'][0]['embedding'], dtype='float32')\n",
    "\n",
    "\n",
    "# 유사 문장 검색 함수 정의\n",
    "def search_similar_sentence(question, threshold=0.5):\n",
    "    # 질문 임베딩 생성\n",
    "    question_embedding = get_openai_embedding(question).reshape(1, -1)\n",
    "    distances, indices = index.search(question_embedding, 1)\n",
    "\n",
    "    # FAQ 데이터에서 유사한 질문을 찾은 경우\n",
    "    if distances[0][0] < threshold:\n",
    "        return faq_data_pd.iloc[indices[0][0]]['Question'], faq_data_pd.iloc[indices[0][0]]['Answer'], True\n",
    "    else:\n",
    "        # 유사한 질문이 없는 경우 None 반환\n",
    "        return None, None, False\n",
    "\n",
    "# OpenAI GPT 모델을 사용해 추가 정보 생성\n",
    "def generate_answer_with_gpt(question, related_question=None, related_answer=None):\n",
    "    messages = [\n",
    "        {\"role\": \"system\", \"content\": \"당신은 친절한 정보 제공자입니다.\"}\n",
    "    ]\n",
    "\n",
    "    # FAQ에서 유사한 질문과 답변이 있는 경우, 이를 프롬프트에 추가\n",
    "    if related_question and related_answer:\n",
    "        messages.append({\n",
    "            \"role\": \"system\",\n",
    "            \"content\": f\"관련 질문: {related_question}\\n관련 답변: {related_answer}\"\n",
    "        })\n",
    "\n",
    "    # 사용자 질문 추가\n",
    "    messages.append({\"role\": \"user\", \"content\": question})\n",
    "\n",
    "    # OpenAI API를 통해 답변 생성\n",
    "    response = openai.ChatCompletion.create(\n",
    "        model=\"gpt-3.5-turbo\",\n",
    "        messages=messages,\n",
    "        max_tokens=300\n",
    "    )\n",
    "    return response['choices'][0]['message']['content']\n",
    "\n",
    "# 최종 답변 생성 함수\n",
    "def get_answer(question):\n",
    "    related_question, related_answer, found = search_similar_sentence(question)\n",
    "    if found:\n",
    "        # FAQ 데이터에서 유사한 답변을 찾은 경우\n",
    "        return generate_answer_with_gpt(question, related_question, related_answer)\n",
    "    else:\n",
    "        # FAQ 데이터에 없는 질문의 경우, 모델에게 질문만으로 답변 요청\n",
    "        return generate_answer_with_gpt(question)\n",
    "\n",
    "# 예제 질문\n",
    "question = \"암호화폐 투자에 대해 알려주세요.\"\n",
    "print(\"질문:\", question)\n",
    "print(\"답변:\", get_answer(question))"
   ]
  },
  {
   "cell_type": "code",
   "execution_count": 4,
   "metadata": {
    "colab": {
     "base_uri": "https://localhost:8080/"
    },
    "executionInfo": {
     "elapsed": 3384,
     "status": "ok",
     "timestamp": 1731843828413,
     "user": {
      "displayName": "정승용 (freamwork)",
      "userId": "18005574181828187753"
     },
     "user_tz": -540
    },
    "id": "aDc0wHr47UhJ",
    "outputId": "a0412b8e-6dfb-4eb1-e5e1-baa978ae4cd0"
   },
   "outputs": [
    {
     "name": "stdout",
     "output_type": "stream",
     "text": [
      "질문: 하나원큐가 뭐야\n",
      "답변: 하나원큐란 하나은행에서 제공하는 편리한 인증 방법 중 하나입니다. 하나원큐를 이용하면 간편하게 온라인 거래를 확인하고 서명할 수 있습니다. 하나원큐 앱을 통해 사용자 인증이 이루어지며, 전자서명 또는 간편인증 기능을 통해 다양한 온라인 거래를 보다 간편하게 처리할 수 있습니다. 이를 통해 보안성을 유지하면서도 사용자 편의성을 높일 수 있습니다.\n"
     ]
    }
   ],
   "source": [
    "question = \"하나원큐가 뭐야\"\n",
    "print(\"질문:\", question)\n",
    "print(\"답변:\", get_answer(question))"
   ]
  },
  {
   "cell_type": "code",
   "execution_count": 5,
   "metadata": {
    "colab": {
     "base_uri": "https://localhost:8080/"
    },
    "executionInfo": {
     "elapsed": 2573,
     "status": "ok",
     "timestamp": 1731843838155,
     "user": {
      "displayName": "정승용 (freamwork)",
      "userId": "18005574181828187753"
     },
     "user_tz": -540
    },
    "id": "pZI4Vxov6Qns",
    "outputId": "d55014cc-5133-4ada-9cc0-1d9d1f8d315a"
   },
   "outputs": [
    {
     "name": "stdout",
     "output_type": "stream",
     "text": [
      "질문: DSR이 뭐야.\n",
      "답변: DSR은 Debt Service Ratio(부채 상환 비율)의 약어로, 개인이나 가구가 소득에 비해 부담해야 하는 총 부채의 비율을 나타내는 지표입니다. DSR은 보통 월 소득 대비 월 상환 부담 금액을 나타내며, 이를 통해 해당 개인이나 가구가 현재 소득으로 얼마나 많은 부채를 상환할 수 있는지를 파악할 수 있습니다. 종종 대출 신청자의 신용평가나 대출 승인 여부를 결정할 때 DSR이 중요한 요소로 고려될 수 있습니다.\n"
     ]
    }
   ],
   "source": [
    "question = \"DSR이 뭐야.\"\n",
    "print(\"질문:\", question)\n",
    "print(\"답변:\", get_answer(question))"
   ]
  },
  {
   "cell_type": "code",
   "execution_count": 6,
   "metadata": {
    "colab": {
     "base_uri": "https://localhost:8080/"
    },
    "executionInfo": {
     "elapsed": 3333,
     "status": "ok",
     "timestamp": 1731843922630,
     "user": {
      "displayName": "정승용 (freamwork)",
      "userId": "18005574181828187753"
     },
     "user_tz": -540
    },
    "id": "V9UljHbL5ofm",
    "outputId": "1a4d214a-cde1-4e77-fcb1-8509974cf15d"
   },
   "outputs": [
    {
     "name": "stdout",
     "output_type": "stream",
     "text": [
      "질문: 금융인증서가 뭐야.\n",
      "답변: 금융인증서는 인터넷 뱅킹을 할 때 사용하는 전자 인증 수단입니다. 이는 은행이나 금융기관에서 발행되며, 사용자를 인증하고 전자 금융거래를 보호하는데 사용됩니다. 보통은 은행에서 발급받으며, 안전한 결제와 송금, 거래내역 조회, 계좌조회 등의 업무에 필요한 전자서명 인증서입니다. 일반적으로 인터넷 뱅킹을 사용하려면 금융인증서가 필요합니다.\n"
     ]
    }
   ],
   "source": [
    "question = \"금융인증서가 뭐야.\"\n",
    "print(\"질문:\", question)\n",
    "print(\"답변:\", get_answer(question))"
   ]
  },
  {
   "cell_type": "code",
   "execution_count": 7,
   "metadata": {
    "colab": {
     "base_uri": "https://localhost:8080/"
    },
    "executionInfo": {
     "elapsed": 2635,
     "status": "ok",
     "timestamp": 1731843938811,
     "user": {
      "displayName": "정승용 (freamwork)",
      "userId": "18005574181828187753"
     },
     "user_tz": -540
    },
    "id": "g7DJYSS08S2t",
    "outputId": "2f2bfe8c-c29e-4982-bd38-4c44714e66f5"
   },
   "outputs": [
    {
     "name": "stdout",
     "output_type": "stream",
     "text": [
      "질문: 금융 인증서 갱신 방법은 뭐야\n",
      "답변: 금융인증서를 갱신하려면 하나원큐 앱에 접속하여 [메뉴 > 인증/보안 > 금융인증서 > 인증서 재발급] 메뉴에서 갱신할 수 있습니다. 갱신 시에도 국내 통신사의 휴대전화번호로 문자 또는 ARS 인증을 수행해야 합니다. 만약에 문제가 발생한다면 영업점을 방문하셔서 도움을 받을 수도 있습니다.\n"
     ]
    }
   ],
   "source": [
    "question = \"금융 인증서 갱신 방법은 뭐야\"\n",
    "print(\"질문:\", question)\n",
    "print(\"답변:\", get_answer(question))"
   ]
  },
  {
   "cell_type": "code",
   "execution_count": null,
   "metadata": {
    "colab": {
     "base_uri": "https://localhost:8080/"
    },
    "executionInfo": {
     "elapsed": 199208,
     "status": "ok",
     "timestamp": 1731846433711,
     "user": {
      "displayName": "정승용 (freamwork)",
      "userId": "18005574181828187753"
     },
     "user_tz": -540
    },
    "id": "8_VA6j3H9NeA",
    "outputId": "0dc6d3f2-067e-4fce-e5f1-eb109196043b"
   },
   "outputs": [
    {
     "name": "stdout",
     "output_type": "stream",
     "text": [
      "모든 질문과 답변이 'finance_questions_and_answers2.xlsx' 파일에 저장되었습니다.\n"
     ]
    }
   ],
   "source": [
    "import openai\n",
    "import pandas as pd\n",
    "import random\n",
    "from dotenv import load_dotenv\n",
    "import os\n",
    "\n",
    "# OpenAI API 키 설정\n",
    "load_dotenv()\n",
    "openai.api_key = os.getenv(\"hana\")\n",
    "\n",
    "# 예시 금융 관련 추가 질문 리스트 (임의로 추가하여 100개의 질문을 준비)\n",
    "additional_finance_questions = [\n",
    "    \"금융 투자는 어떻게 시작하나요?\",\n",
    "    \"펀드는 어떻게 운영되나요?\",\n",
    "    \"주식의 배당 수익은 어떻게 계산하나요?\",\n",
    "    \"채권이란 무엇이며 어떻게 투자하나요?\",\n",
    "    \"암호화폐는 안전한 투자 수단인가요?\",\n",
    "    \"경제 지표가 주식 시장에 미치는 영향은?\",\n",
    "    \"외환 거래에서 리스크를 줄이는 방법은?\",\n",
    "    \"공매도란 무엇인가요?\",\n",
    "    \"주식 분할의 장단점은 무엇인가요?\",\n",
    "    \"인덱스 펀드와 액티브 펀드의 차이점은?\",\n",
    "    \"금 가격 변동의 주요 원인은 무엇인가요?\",\n",
    "    \"ETF와 뮤추얼펀드의 차이점은?\",\n",
    "    \"암호화폐 지갑의 종류와 차이점은?\",\n",
    "    \"포트폴리오 다각화의 중요성은?\",\n",
    "    \"주식시장과 채권시장의 관계는?\",\n",
    "    \"원자재 투자는 어떻게 이루어지나요?\",\n",
    "    \"ESG 투자의 개념과 중요성은?\",\n",
    "    \"금융 레버리지 효과란 무엇인가요?\",\n",
    "    \"기술적 분석과 기본적 분석의 차이점은?\",\n",
    "    \"외환 보유고의 역할은 무엇인가요?\",\n",
    "    \"비트코인과 이더리움의 차이점은?\",\n",
    "    \"신용등급이 투자에 미치는 영향은?\",\n",
    "    \"연금 투자 전략은 무엇인가요?\",\n",
    "    \"인플레이션에 대비하는 투자 방법은?\",\n",
    "    \"리스크와 수익성의 관계는?\",\n",
    "    \"대체 투자란 무엇인가요?\",\n",
    "    \"달러 강세가 신흥 시장에 미치는 영향은?\",\n",
    "    \"고정 금리와 변동 금리의 차이점은?\",\n",
    "    \"퀀트 투자란 무엇인가요?\",\n",
    "    \"헤지펀드와 뮤추얼펀드의 차이점은?\",\n",
    "    \"경기 순환주와 비경기 순환주의 차이점은?\",\n",
    "    \"환율 변동이 경제에 미치는 영향은?\",\n",
    "    \"금융 파생상품의 종류는?\",\n",
    "    \"경제 위기에 대비하는 투자 전략은?\",\n",
    "    \"현금흐름할인법(DCF)의 원리는?\",\n",
    "    \"주가수익비율(PER)의 의미는?\",\n",
    "    \"적립식 투자와 일시불 투자의 장단점은?\",\n",
    "    \"금리 인상이 자산 가격에 미치는 영향은?\",\n",
    "    \"대출 금리와 예금 금리의 차이는?\",\n",
    "    \"IPO란 무엇이며 어떻게 이루어지나요?\",\n",
    "    \"배당 수익률이 중요한 이유는?\",\n",
    "    \"기업 분석 시 고려해야 할 지표는?\",\n",
    "    \"포트폴리오 리밸런싱이란?\",\n",
    "    \"주식시장과 부동산 시장의 차이점은?\",\n",
    "    \"안전자산과 위험자산의 구분 기준은?\",\n",
    "    \"비트코인 채굴의 원리는?\",\n",
    "    \"투자와 투기의 차이는?\",\n",
    "    \"경기 침체에 대비하는 자산 배분 전략은?\",\n",
    "    \"ESG 펀드의 장점은?\",\n",
    "    \"리스크 헤지란 무엇인가요?\"\n",
    "]\n",
    "\n",
    "# FAQ 데이터에 있는 질문을 포함하여 총 100개의 질문으로 만듭니다\n",
    "faq_questions = faq_data['Question'].tolist()\n",
    "sampled_faq_questions = random.sample(faq_questions, 50)\n",
    "all_questions = sampled_faq_questions + additional_finance_questions\n",
    "sampled_all_questions = random.sample(all_questions, 50)\n",
    "\n",
    "# 모든 질문에 대해 답변 생성\n",
    "all_data = []\n",
    "for question in sampled_all_questions[:50]:  # 최대 100개만 사용\n",
    "    answer = get_answer(question)\n",
    "    all_data.append({\"Question\": question, \"Answer\": answer})\n",
    "\n",
    "# 데이터프레임으로 변환\n",
    "df = pd.DataFrame(all_data)\n",
    "\n",
    "# 엑셀 파일로 저장\n",
    "output_filename = \"finance_questions_and_answers2.xlsx\"\n",
    "df.to_excel(output_filename, index=False)\n",
    "\n",
    "print(f\"모든 질문과 답변이 '{output_filename}' 파일에 저장되었습니다.\")"
   ]
  },
  {
   "cell_type": "code",
   "execution_count": 14,
   "metadata": {
    "colab": {
     "base_uri": "https://localhost:8080/"
    },
    "executionInfo": {
     "elapsed": 3393,
     "status": "ok",
     "timestamp": 1731845014864,
     "user": {
      "displayName": "정승용 (freamwork)",
      "userId": "18005574181828187753"
     },
     "user_tz": -540
    },
    "id": "EIq-O1Yh-I_3",
    "outputId": "0eb404b1-1476-40e9-dcb5-1226d0f0886b"
   },
   "outputs": [
    {
     "name": "stdout",
     "output_type": "stream",
     "text": [
      "질문: 금융인증서갱신방법을 알려줘\n",
      "답변: 금융인증서 갱신은 보통 매년 이루어지며, 하나원큐 앱을 통해 간단하게 처리할 수 있습니다. 아래 단계를 따라 진행해보세요.\n",
      "\n",
      "1. 하나원큐 앱에 로그인합니다.\n",
      "2. [메뉴 > 인증/보안 > 금융인증서] 에서 금융인증서 메뉴로 이동합니다.\n",
      "3. \"인증서 발급/재발급\" 메뉴를 선택합니다.\n",
      "4. 안내에 따라 인증 절차를 완료합니다.\n",
      "5. 금융인증서 갱신이 완료되었습니다.\n",
      "\n",
      "갱신 과정에서 어려움이 있는 경우, 해당 은행 또는 고객센터로 문의하시면 도와드릴 것입니다.\n"
     ]
    }
   ],
   "source": [
    "question = \"금융인증서갱신방법을 알려줘\"\n",
    "print(\"질문:\", question)\n",
    "print(\"답변:\", get_answer(question))"
   ]
  }
 ],
 "metadata": {
  "accelerator": "GPU",
  "colab": {
   "authorship_tag": "ABX9TyPyFI+mjeZa5pvvWt4zL6qE",
   "gpuType": "T4",
   "provenance": []
  },
  "kernelspec": {
   "display_name": ".venv",
   "language": "python",
   "name": "python3"
  },
  "language_info": {
   "codemirror_mode": {
    "name": "ipython",
    "version": 3
   },
   "file_extension": ".py",
   "mimetype": "text/x-python",
   "name": "python",
   "nbconvert_exporter": "python",
   "pygments_lexer": "ipython3",
   "version": "3.11.5"
  }
 },
 "nbformat": 4,
 "nbformat_minor": 0
}
